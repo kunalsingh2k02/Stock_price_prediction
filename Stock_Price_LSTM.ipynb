{
 "cells": [
  {
   "cell_type": "code",
   "execution_count": 1,
   "id": "6f48d5b8",
   "metadata": {},
   "outputs": [],
   "source": [
    "\n",
    "try:\n",
    "  import yahoo_fin.stock_info as si\n",
    "except ModuleNotFoundError:\n",
    "  if 'google.colab' in str(get_ipython()):\n",
    "    %pip install yahoo_fin\n",
    "\n",
    "  import yahoo_fin.stock_info as si"
   ]
  },
  {
   "cell_type": "code",
   "execution_count": 2,
   "id": "ee64bf08",
   "metadata": {},
   "outputs": [],
   "source": [
    "\n",
    "# importing necessary packages and libraries\n",
    "import os\n",
    "import time\n",
    "import random\n",
    "import pandas as pd\n",
    "import numpy as np\n",
    "import tensorflow as tf\n",
    "from tensorflow import keras\n",
    "from keras.layers import Dense , LSTM, Dropout,Bidirectional\n",
    "from keras.models import Sequential, load_model\n",
    "from keras.callbacks import ModelCheckpoint, TensorBoard\n",
    "from sklearn import preprocessing\n",
    "from sklearn.model_selection import train_test_split\n",
    "from yahoo_fin import stock_info as si\n",
    "from collections import deque"
   ]
  },
  {
   "cell_type": "code",
   "execution_count": 3,
   "id": "8e8f0970",
   "metadata": {},
   "outputs": [],
   "source": [
    "np.random.seed(314)\n",
    "tf.random.set_seed(314)\n",
    "random.seed(314)"
   ]
  },
  {
   "cell_type": "code",
   "execution_count": 4,
   "id": "83b21aef",
   "metadata": {},
   "outputs": [],
   "source": [
    "\n",
    "# shuffling the data so that model has varying train, test and validation sets\n",
    "def shuffle(a, b):\n",
    "    # shuffle two arrays in the same way\n",
    "    state = np.random.get_state()\n",
    "    np.random.shuffle(a)\n",
    "    np.random.set_state(state)\n",
    "    np.random.shuffle(b)\n",
    "\n",
    "def load_data(ticker, n_steps=50, scale=True, shuffle=True, lookup_step=1, split_by_date=True,\n",
    "                test_size=0.2, feature_columns=['adjclose', 'volume', 'open', 'high', 'low']):\n",
    "    if isinstance(ticker, str):\n",
    "        df = si.get_data(ticker)\n",
    "    elif isinstance(ticker, pd.DataFrame):\n",
    "        df = ticker\n",
    "    else:\n",
    "        raise TypeError(\"ticker can be either a str or a `pd.DataFrame` instances\")\n",
    "    result = {}\n",
    "\n",
    "    result['df'] = df.copy()\n",
    "\n",
    "    for col in feature_columns:\n",
    "        assert col in df.columns, f\"'{col}' does not exist in the dataframe.\"\n",
    "\n",
    "    if \"date\" not in df.columns:\n",
    "        df[\"date\"] = df.index\n",
    "    if scale:\n",
    "        column_scaler = {}\n",
    "\n",
    "        for column in feature_columns:\n",
    "            scaler = preprocessing.MinMaxScaler()\n",
    "            df[column] = scaler.fit_transform(np.expand_dims(df[column].values, axis=1))\n",
    "            column_scaler[column] = scaler\n",
    "\n",
    "        result[\"column_scaler\"] = column_scaler\n",
    "\n",
    "    df['future'] = df['adjclose'].shift(-lookup_step)\n",
    "\n",
    "    last_sequence = np.array(df[feature_columns].tail(lookup_step))\n",
    "\n",
    "    df.dropna(inplace=True)\n",
    "    sequence_data = []\n",
    "    sequences = deque(maxlen=n_steps)\n",
    "    for entry, target in zip(df[feature_columns + [\"date\"]].values, df['future'].values):\n",
    "        sequences.append(entry)\n",
    "        if len(sequences) == n_steps:\n",
    "            sequence_data.append([np.array(sequences), target])\n",
    "    last_sequence = list([s[:len(feature_columns)] for s in sequences]) + list(last_sequence)\n",
    "    last_sequence = np.array(last_sequence).astype(np.float32)\n",
    "\n",
    "    result['last_sequence'] = last_sequence\n",
    "\n",
    "    X, y = [], []\n",
    "    for seq, target in sequence_data:\n",
    "        X.append(seq)\n",
    "        y.append(target)\n",
    "\n",
    "    X = np.array(X)\n",
    "    y = np.array(y)\n",
    "    if split_by_date:\n",
    "\n",
    "        train_samples = int((1 - test_size) * len(X))\n",
    "        result[\"X_train\"] = X[:train_samples]\n",
    "        result[\"y_train\"] = y[:train_samples]\n",
    "        result[\"X_test\"]  = X[train_samples:]\n",
    "        result[\"y_test\"]  = y[train_samples:]\n",
    "        if shuffle:\n",
    "\n",
    "            shuffle(result[\"X_train\"], result[\"y_train\"])\n",
    "            shuffle(result[\"X_test\"], result[\"y_test\"])\n",
    "    else:\n",
    "\n",
    "        result[\"X_train\"], result[\"X_test\"], result[\"y_train\"], result[\"y_test\"] = train_test_split(X, y,\n",
    "                                                                                test_size=test_size, shuffle=shuffle)\n",
    "\n",
    "    dates = result[\"X_test\"][:, -1, -1]\n",
    "\n",
    "    result[\"test_df\"] = result[\"df\"].loc[dates]\n",
    "\n",
    "    result[\"test_df\"] = result[\"test_df\"][~result[\"test_df\"].index.duplicated(keep='first')]\n",
    "\n",
    "    result[\"X_train\"] = result[\"X_train\"][:, :, :len(feature_columns)].astype(np.float32)\n",
    "    result[\"X_test\"] = result[\"X_test\"][:, :, :len(feature_columns)].astype(np.float32)\n",
    "    return result"
   ]
  },
  {
   "cell_type": "code",
   "execution_count": 8,
   "id": "eb2a78c1",
   "metadata": {},
   "outputs": [],
   "source": [
    "def create_model(sequence_length, n_features, units=256, cell=LSTM, n_layers=2, dropout=0.3,\n",
    "                loss=\"mean_squared_error\", optimizer=\"adam\", bidirectional=False):\n",
    "    model = Sequential()\n",
    "    for i in range(n_layers):\n",
    "        if i == 0:\n",
    "            # first layer\n",
    "            if bidirectional:\n",
    "                model.add(Bidirectional(cell(units, return_sequences=True), batch_input_shape=(None, sequence_length, n_features)))\n",
    "            else:\n",
    "                model.add(cell(units, return_sequences=True, batch_input_shape=(None, sequence_length, n_features)))\n",
    "        elif i == n_layers - 1:\n",
    "            # last layer\n",
    "            if bidirectional:\n",
    "                model.add(Bidirectional(cell(units, return_sequences=False)))\n",
    "            else:\n",
    "                model.add(cell(units, return_sequences=False))\n",
    "        else:\n",
    "            # hidden layers\n",
    "            if bidirectional:\n",
    "                model.add(Bidirectional(cell(units, return_sequences=True)))\n",
    "            else:\n",
    "                model.add(cell(units, return_sequences=True))\n",
    "        # add dropout after each layer\n",
    "        model.add(Dropout(dropout))\n",
    "    model.add(Dense(1, activation=\"linear\"))\n",
    "    model.compile(loss=loss, metrics=[\"mean_squared_error\"], optimizer=optimizer)\n",
    "    return model"
   ]
  },
  {
   "cell_type": "code",
   "execution_count": 9,
   "id": "8c12e5ce",
   "metadata": {},
   "outputs": [],
   "source": [
    "\n",
    "N_STEPS = 50\n",
    "LOOKUP_STEP = 1 # Next day - how many steps(days) ahead: here it is 1 day\n",
    "# scale feature columns & output price as well\n",
    "SCALE = True\n",
    "scale_str = f\"sc-{int(SCALE)}\"\n",
    "# shuffle the dataset\n",
    "SHUFFLE = True\n",
    "shuffle_str = f\"sh-{int(SHUFFLE)}\"\n",
    "# split the training/testing set by date or not\n",
    "SPLIT_BY_DATE = False\n",
    "split_by_date_str = f\"sbd-{int(SPLIT_BY_DATE)}\"\n",
    "# test ratio size: 0.2\n",
    "TEST_SIZE = 0.2\n",
    "\n",
    "# features to use\n",
    "FEATURE_COLUMNS = [\"adjclose\", \"volume\", \"open\", \"high\", \"low\"]\n",
    "# date now\n",
    "date_now = time.strftime(\"%Y-%m-%d\")\n",
    "\n",
    "### model parameters\n",
    "N_LAYERS = 2\n",
    "# LSTM cell\n",
    "CELL = LSTM\n",
    "# 256 LSTM neurons\n",
    "UNITS = 256\n",
    "DROPOUT = 0.5\n",
    "# whether to use bidirectional RNNs\n",
    "BIDIRECTIONAL = False\n",
    "# training parameters\n",
    "# mean absolute error loss\n",
    "LOSS = \"mean_squared_error\"\n",
    "OPTIMIZER = \"adam\"\n",
    "BATCH_SIZE = 64\n",
    "EPOCHS = 5\n",
    "# Apple stock market\n",
    "ticker = \"NVDA\"\n",
    "ticker_data_filename = os.path.join(\"data\", f\"{ticker}_{date_now}.csv\")\n",
    "# model name to save, making it as unique as possible based on parameters\n",
    "model_name = f\"{date_now}_{ticker}-{shuffle_str}-{scale_str}-{split_by_date_str}-\\\n",
    "{LOSS}-{OPTIMIZER}-{CELL.__name__}-seq-{N_STEPS}-step-{LOOKUP_STEP}-layers-{N_LAYERS}-units-{UNITS}\"\n",
    "if BIDIRECTIONAL:\n",
    "    model_name += \"-b\""
   ]
  },
  {
   "cell_type": "code",
   "execution_count": 10,
   "id": "31e74728",
   "metadata": {},
   "outputs": [
    {
     "name": "stdout",
     "output_type": "stream",
     "text": [
      "Epoch 1/20\n",
      "77/77 [==============================] - ETA: 0s - loss: 9.1223e-04 - mean_squared_error: 9.1223e-04\n",
      "Epoch 1: val_loss improved from inf to 0.00019, saving model to results\\2023-09-05_NVDA-sh-1-sc-1-sbd-0-mean_squared_error-adam-LSTM-seq-50-step-1-layers-2-units-256.h5\n",
      "77/77 [==============================] - 58s 655ms/step - loss: 9.1223e-04 - mean_squared_error: 9.1223e-04 - val_loss: 1.9230e-04 - val_mean_squared_error: 1.9230e-04\n",
      "Epoch 2/20\n",
      "77/77 [==============================] - ETA: 0s - loss: 3.7074e-04 - mean_squared_error: 3.7074e-04\n",
      "Epoch 2: val_loss did not improve from 0.00019\n",
      "77/77 [==============================] - 49s 631ms/step - loss: 3.7074e-04 - mean_squared_error: 3.7074e-04 - val_loss: 1.9782e-04 - val_mean_squared_error: 1.9782e-04\n",
      "Epoch 3/20\n",
      "77/77 [==============================] - ETA: 0s - loss: 3.2293e-04 - mean_squared_error: 3.2293e-04\n",
      "Epoch 3: val_loss improved from 0.00019 to 0.00017, saving model to results\\2023-09-05_NVDA-sh-1-sc-1-sbd-0-mean_squared_error-adam-LSTM-seq-50-step-1-layers-2-units-256.h5\n",
      "77/77 [==============================] - 44s 570ms/step - loss: 3.2293e-04 - mean_squared_error: 3.2293e-04 - val_loss: 1.6998e-04 - val_mean_squared_error: 1.6998e-04\n",
      "Epoch 4/20\n",
      "77/77 [==============================] - ETA: 0s - loss: 2.8896e-04 - mean_squared_error: 2.8896e-04\n",
      "Epoch 4: val_loss did not improve from 0.00017\n",
      "77/77 [==============================] - 47s 609ms/step - loss: 2.8896e-04 - mean_squared_error: 2.8896e-04 - val_loss: 1.7643e-04 - val_mean_squared_error: 1.7643e-04\n",
      "Epoch 5/20\n",
      "77/77 [==============================] - ETA: 0s - loss: 3.3105e-04 - mean_squared_error: 3.3105e-04\n",
      "Epoch 5: val_loss improved from 0.00017 to 0.00012, saving model to results\\2023-09-05_NVDA-sh-1-sc-1-sbd-0-mean_squared_error-adam-LSTM-seq-50-step-1-layers-2-units-256.h5\n",
      "77/77 [==============================] - 48s 629ms/step - loss: 3.3105e-04 - mean_squared_error: 3.3105e-04 - val_loss: 1.1835e-04 - val_mean_squared_error: 1.1835e-04\n",
      "Epoch 6/20\n",
      "77/77 [==============================] - ETA: 0s - loss: 3.1745e-04 - mean_squared_error: 3.1745e-04\n",
      "Epoch 6: val_loss improved from 0.00012 to 0.00011, saving model to results\\2023-09-05_NVDA-sh-1-sc-1-sbd-0-mean_squared_error-adam-LSTM-seq-50-step-1-layers-2-units-256.h5\n",
      "77/77 [==============================] - 49s 639ms/step - loss: 3.1745e-04 - mean_squared_error: 3.1745e-04 - val_loss: 1.1124e-04 - val_mean_squared_error: 1.1124e-04\n",
      "Epoch 7/20\n",
      "77/77 [==============================] - ETA: 0s - loss: 2.8792e-04 - mean_squared_error: 2.8792e-04\n",
      "Epoch 7: val_loss did not improve from 0.00011\n",
      "77/77 [==============================] - 46s 604ms/step - loss: 2.8792e-04 - mean_squared_error: 2.8792e-04 - val_loss: 1.3106e-04 - val_mean_squared_error: 1.3106e-04\n",
      "Epoch 8/20\n",
      "77/77 [==============================] - ETA: 0s - loss: 3.0956e-04 - mean_squared_error: 3.0956e-04\n",
      "Epoch 8: val_loss did not improve from 0.00011\n",
      "77/77 [==============================] - 47s 612ms/step - loss: 3.0956e-04 - mean_squared_error: 3.0956e-04 - val_loss: 1.4943e-04 - val_mean_squared_error: 1.4943e-04\n",
      "Epoch 9/20\n",
      "77/77 [==============================] - ETA: 0s - loss: 2.5804e-04 - mean_squared_error: 2.5804e-04\n",
      "Epoch 9: val_loss did not improve from 0.00011\n",
      "77/77 [==============================] - 47s 617ms/step - loss: 2.5804e-04 - mean_squared_error: 2.5804e-04 - val_loss: 1.5640e-04 - val_mean_squared_error: 1.5640e-04\n",
      "Epoch 10/20\n",
      "77/77 [==============================] - ETA: 0s - loss: 2.8266e-04 - mean_squared_error: 2.8266e-04\n",
      "Epoch 10: val_loss did not improve from 0.00011\n",
      "77/77 [==============================] - 47s 616ms/step - loss: 2.8266e-04 - mean_squared_error: 2.8266e-04 - val_loss: 2.9795e-04 - val_mean_squared_error: 2.9795e-04\n",
      "Epoch 11/20\n",
      "77/77 [==============================] - ETA: 0s - loss: 2.2159e-04 - mean_squared_error: 2.2159e-04\n",
      "Epoch 11: val_loss improved from 0.00011 to 0.00010, saving model to results\\2023-09-05_NVDA-sh-1-sc-1-sbd-0-mean_squared_error-adam-LSTM-seq-50-step-1-layers-2-units-256.h5\n",
      "77/77 [==============================] - 47s 617ms/step - loss: 2.2159e-04 - mean_squared_error: 2.2159e-04 - val_loss: 1.0378e-04 - val_mean_squared_error: 1.0378e-04\n",
      "Epoch 12/20\n",
      "77/77 [==============================] - ETA: 0s - loss: 2.5863e-04 - mean_squared_error: 2.5863e-04\n",
      "Epoch 12: val_loss did not improve from 0.00010\n",
      "77/77 [==============================] - 47s 617ms/step - loss: 2.5863e-04 - mean_squared_error: 2.5863e-04 - val_loss: 1.3340e-04 - val_mean_squared_error: 1.3340e-04\n",
      "Epoch 13/20\n",
      "77/77 [==============================] - ETA: 0s - loss: 1.8898e-04 - mean_squared_error: 1.8898e-04\n",
      "Epoch 13: val_loss improved from 0.00010 to 0.00009, saving model to results\\2023-09-05_NVDA-sh-1-sc-1-sbd-0-mean_squared_error-adam-LSTM-seq-50-step-1-layers-2-units-256.h5\n",
      "77/77 [==============================] - 48s 621ms/step - loss: 1.8898e-04 - mean_squared_error: 1.8898e-04 - val_loss: 9.1905e-05 - val_mean_squared_error: 9.1905e-05\n",
      "Epoch 14/20\n",
      "77/77 [==============================] - ETA: 0s - loss: 1.9280e-04 - mean_squared_error: 1.9280e-04\n",
      "Epoch 14: val_loss did not improve from 0.00009\n",
      "77/77 [==============================] - 42s 545ms/step - loss: 1.9280e-04 - mean_squared_error: 1.9280e-04 - val_loss: 1.3310e-04 - val_mean_squared_error: 1.3310e-04\n",
      "Epoch 15/20\n",
      "77/77 [==============================] - ETA: 0s - loss: 1.9505e-04 - mean_squared_error: 1.9505e-04\n",
      "Epoch 15: val_loss did not improve from 0.00009\n",
      "77/77 [==============================] - 47s 609ms/step - loss: 1.9505e-04 - mean_squared_error: 1.9505e-04 - val_loss: 1.8637e-04 - val_mean_squared_error: 1.8637e-04\n",
      "Epoch 16/20\n",
      "77/77 [==============================] - ETA: 0s - loss: 2.1742e-04 - mean_squared_error: 2.1742e-04\n",
      "Epoch 16: val_loss did not improve from 0.00009\n",
      "77/77 [==============================] - 48s 629ms/step - loss: 2.1742e-04 - mean_squared_error: 2.1742e-04 - val_loss: 9.5546e-05 - val_mean_squared_error: 9.5546e-05\n",
      "Epoch 17/20\n",
      "77/77 [==============================] - ETA: 0s - loss: 2.1314e-04 - mean_squared_error: 2.1314e-04\n",
      "Epoch 17: val_loss did not improve from 0.00009\n",
      "77/77 [==============================] - 47s 614ms/step - loss: 2.1314e-04 - mean_squared_error: 2.1314e-04 - val_loss: 1.1546e-04 - val_mean_squared_error: 1.1546e-04\n",
      "Epoch 18/20\n",
      "77/77 [==============================] - ETA: 0s - loss: 2.2439e-04 - mean_squared_error: 2.2439e-04\n",
      "Epoch 18: val_loss did not improve from 0.00009\n",
      "77/77 [==============================] - 48s 627ms/step - loss: 2.2439e-04 - mean_squared_error: 2.2439e-04 - val_loss: 1.0541e-04 - val_mean_squared_error: 1.0541e-04\n",
      "Epoch 19/20\n",
      "77/77 [==============================] - ETA: 0s - loss: 2.1487e-04 - mean_squared_error: 2.1487e-04\n",
      "Epoch 19: val_loss did not improve from 0.00009\n",
      "77/77 [==============================] - 49s 638ms/step - loss: 2.1487e-04 - mean_squared_error: 2.1487e-04 - val_loss: 9.3166e-05 - val_mean_squared_error: 9.3166e-05\n",
      "Epoch 20/20\n",
      "77/77 [==============================] - ETA: 0s - loss: 2.1512e-04 - mean_squared_error: 2.1512e-04\n",
      "Epoch 20: val_loss did not improve from 0.00009\n",
      "77/77 [==============================] - 48s 627ms/step - loss: 2.1512e-04 - mean_squared_error: 2.1512e-04 - val_loss: 1.5992e-04 - val_mean_squared_error: 1.5992e-04\n"
     ]
    }
   ],
   "source": [
    "# loading the data\n",
    "data = load_data(ticker, N_STEPS, scale=SCALE, split_by_date=SPLIT_BY_DATE,\n",
    "                shuffle=SHUFFLE, lookup_step=LOOKUP_STEP, test_size=TEST_SIZE,\n",
    "                feature_columns=FEATURE_COLUMNS)\n",
    "# save the dataframe\n",
    "data[\"df\"].to_csv(ticker_data_filename)\n",
    "# construct the model\n",
    "model = create_model(N_STEPS, len(FEATURE_COLUMNS), loss=LOSS, units=UNITS, cell=CELL, n_layers=N_LAYERS,\n",
    "                    dropout=DROPOUT, optimizer=OPTIMIZER, bidirectional=BIDIRECTIONAL)\n",
    "# some tensorflow callbacks\n",
    "checkpointer = ModelCheckpoint(os.path.join(\"results\", model_name + \".h5\"), save_weights_only=True, save_best_only=True, verbose=1)\n",
    "tensorboard = TensorBoard(log_dir=os.path.join(\"logs\", model_name))\n",
    "\n",
    "# Training the model on Apple stock data\n",
    "history = model.fit(data[\"X_train\"], data[\"y_train\"],\n",
    "                    batch_size=BATCH_SIZE,\n",
    "                    epochs=EPOCHS,\n",
    "                    validation_data=(data[\"X_test\"], data[\"y_test\"]),\n",
    "                    callbacks=[checkpointer, tensorboard],\n",
    "                    verbose=1)"
   ]
  },
  {
   "cell_type": "code",
   "execution_count": 11,
   "id": "17641f68",
   "metadata": {},
   "outputs": [],
   "source": [
    "if not os.path.isdir(\"results\"):\n",
    "    os.mkdir(\"results\")\n",
    "if not os.path.isdir(\"logs\"):\n",
    "    os.mkdir(\"logs\")\n",
    "if not os.path.isdir(\"data\"):\n",
    "    os.mkdir(\"data\")\n"
   ]
  },
  {
   "cell_type": "code",
   "execution_count": 12,
   "id": "9c976846",
   "metadata": {},
   "outputs": [
    {
     "data": {
      "text/html": [
       "\n",
       "      <iframe id=\"tensorboard-frame-67f7af89352bcdae\" width=\"100%\" height=\"800\" frameborder=\"0\">\n",
       "      </iframe>\n",
       "      <script>\n",
       "        (function() {\n",
       "          const frame = document.getElementById(\"tensorboard-frame-67f7af89352bcdae\");\n",
       "          const url = new URL(\"/\", window.location);\n",
       "          const port = 6006;\n",
       "          if (port) {\n",
       "            url.port = port;\n",
       "          }\n",
       "          frame.src = url;\n",
       "        })();\n",
       "      </script>\n",
       "    "
      ],
      "text/plain": [
       "<IPython.core.display.HTML object>"
      ]
     },
     "metadata": {},
     "output_type": "display_data"
    }
   ],
   "source": [
    "\n",
    "%load_ext tensorboard\n",
    "%tensorboard --logdir=\"logs\""
   ]
  },
  {
   "cell_type": "code",
   "execution_count": 13,
   "id": "5bfce2a6",
   "metadata": {},
   "outputs": [],
   "source": [
    "\n",
    "# Storing all results\n",
    "def get_final_df(model, data):\n",
    "\n",
    "    buy_profit  = lambda current, pred_future, true_future: true_future - current if pred_future > current else 0\n",
    "\n",
    "    sell_profit = lambda current, pred_future, true_future: current - true_future if pred_future < current else 0\n",
    "    X_test = data[\"X_test\"]\n",
    "    y_test = data[\"y_test\"]\n",
    "\n",
    "    y_pred = model.predict(X_test)\n",
    "    if SCALE:\n",
    "        y_test = np.squeeze(data[\"column_scaler\"][\"adjclose\"].inverse_transform(np.expand_dims(y_test, axis=0)))\n",
    "        y_pred = np.squeeze(data[\"column_scaler\"][\"adjclose\"].inverse_transform(y_pred))\n",
    "    test_df = data[\"test_df\"]\n",
    "\n",
    "    test_df[f\"adjclose_{LOOKUP_STEP}\"] = y_pred\n",
    "\n",
    "    test_df[f\"true_adjclose_{LOOKUP_STEP}\"] = y_test\n",
    "\n",
    "    test_df.sort_index(inplace=True)\n",
    "    final_df = test_df\n",
    "\n",
    "    final_df[\"buy_profit\"] = list(map(buy_profit,\n",
    "                                    final_df[\"adjclose\"],\n",
    "                                    final_df[f\"adjclose_{LOOKUP_STEP}\"],\n",
    "                                    final_df[f\"true_adjclose_{LOOKUP_STEP}\"])\n",
    "\n",
    "                                    )\n",
    "\n",
    "    final_df[\"sell_profit\"] = list(map(sell_profit,\n",
    "                                    final_df[\"adjclose\"],\n",
    "                                    final_df[f\"adjclose_{LOOKUP_STEP}\"],\n",
    "                                    final_df[f\"true_adjclose_{LOOKUP_STEP}\"])\n",
    "\n",
    "                                    )\n",
    "    return final_df"
   ]
  },
  {
   "cell_type": "code",
   "execution_count": 14,
   "id": "53091347",
   "metadata": {},
   "outputs": [],
   "source": [
    "# function to predict values\n",
    "def predict(model, data):\n",
    "\n",
    "    last_sequence = data[\"last_sequence\"][-N_STEPS:]\n",
    "\n",
    "    last_sequence = np.expand_dims(last_sequence, axis=0)\n",
    "\n",
    "    prediction = model.predict(last_sequence)\n",
    "\n",
    "    if SCALE:\n",
    "        predicted_price = data[\"column_scaler\"][\"adjclose\"].inverse_transform(prediction)[0][0]\n",
    "    else:\n",
    "        predicted_price = prediction[0][0]\n",
    "    return predicted_price"
   ]
  },
  {
   "cell_type": "code",
   "execution_count": 15,
   "id": "b08c93dc",
   "metadata": {},
   "outputs": [],
   "source": [
    "\n",
    "\n",
    "# load optimal model weights from results folder\n",
    "model_path = os.path.join(\"results\", model_name) + \".h5\"\n",
    "model.load_weights(model_path)\n",
    "     "
   ]
  },
  {
   "cell_type": "code",
   "execution_count": 16,
   "id": "01b26a13",
   "metadata": {},
   "outputs": [],
   "source": [
    "loss, mae = model.evaluate(data[\"X_test\"], data[\"y_test\"], verbose=0)\n",
    "# calculate the mean absolute error\n",
    "if SCALE:\n",
    "    mean_absolute_error = data[\"column_scaler\"][\"adjclose\"].inverse_transform([[mae]])[0][0]\n",
    "else:\n",
    "    mean_absolute_error = mae"
   ]
  },
  {
   "cell_type": "code",
   "execution_count": 17,
   "id": "5a27e735",
   "metadata": {},
   "outputs": [
    {
     "name": "stdout",
     "output_type": "stream",
     "text": [
      "39/39 [==============================] - 9s 179ms/step\n"
     ]
    }
   ],
   "source": [
    "\n",
    "final_df = get_final_df(model, data)"
   ]
  },
  {
   "cell_type": "code",
   "execution_count": 18,
   "id": "d066575b",
   "metadata": {},
   "outputs": [
    {
     "name": "stdout",
     "output_type": "stream",
     "text": [
      "1/1 [==============================] - 0s 85ms/step\n"
     ]
    }
   ],
   "source": [
    "future_price = predict(model, data)"
   ]
  },
  {
   "cell_type": "code",
   "execution_count": 19,
   "id": "842b1ce6",
   "metadata": {},
   "outputs": [],
   "source": [
    "\n",
    "# accuracy by counting the number of positive profits\n",
    "accuracy_score = (len(final_df[final_df['sell_profit'] > 0]) + len(final_df[final_df['buy_profit'] > 0])) / len(final_df)\n",
    "# calculating total buy & sell profit\n",
    "total_buy_profit  = final_df[\"buy_profit\"].sum()\n",
    "total_sell_profit = final_df[\"sell_profit\"].sum()\n",
    "# total profit by adding sell & buy together\n",
    "total_profit = total_buy_profit + total_sell_profit\n",
    "# dividing total profit by number of testing samples (number of trades)\n",
    "profit_per_trade = total_profit / len(final_df)"
   ]
  },
  {
   "cell_type": "code",
   "execution_count": 20,
   "id": "ab9abfce",
   "metadata": {},
   "outputs": [
    {
     "name": "stdout",
     "output_type": "stream",
     "text": [
      "Future price after 1 days is $492.50\n",
      "mean_squared_error loss: 9.190457785734907e-05\n",
      "Accuracy score: 50.36615134255492\n"
     ]
    }
   ],
   "source": [
    "\n",
    "# printing metrics\n",
    "print(f\"Future price after {LOOKUP_STEP} days is ${future_price:.2f}\")\n",
    "print(f\"{LOSS} loss:\", loss)\n",
    "print(\"Accuracy score:\", accuracy_score*100)"
   ]
  },
  {
   "cell_type": "code",
   "execution_count": 21,
   "id": "f549a17d",
   "metadata": {},
   "outputs": [
    {
     "data": {
      "image/png": "[encoded data removed]",
      "text/plain": [
       "<Figure size 432x288 with 1 Axes>"
      ]
     },
     "metadata": {
      "needs_background": "light"
     },
     "output_type": "display_data"
    }
   ],
   "source": [
    "\n",
    "# plot true/pred prices graph\n",
    "import matplotlib.pyplot as plt\n",
    "\n",
    "def plot_graph(test_df):\n",
    "\n",
    "    plt.plot(test_df[f'true_adjclose_{LOOKUP_STEP}'], c='b')\n",
    "    plt.plot(test_df[f'adjclose_{LOOKUP_STEP}'], c='r')\n",
    "    plt.xlabel(\"Days\")\n",
    "    plt.ylabel(\"Price\")\n",
    "    plt.legend([\"Actual Price\", \"Predicted Price\"])\n",
    "    plt.show()\n",
    "plot_graph(final_df)"
   ]
  }
 ],
 "metadata": {
  "kernelspec": {
   "display_name": "Python 3 (ipykernel)",
   "language": "python",
   "name": "python3"
  },
  "language_info": {
   "codemirror_mode": {
    "name": "ipython",
    "version": 3
   },
   "file_extension": ".py",
   "mimetype": "text/x-python",
   "name": "python",
   "nbconvert_exporter": "python",
   "pygments_lexer": "ipython3",
   "version": "3.9.12"
  }
 },
 "nbformat": 4,
 "nbformat_minor": 5
}
